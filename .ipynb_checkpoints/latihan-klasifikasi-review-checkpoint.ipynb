{
 "cells": [
  {
   "cell_type": "markdown",
   "id": "80023309-cec3-4b47-9cd4-b5074d55f633",
   "metadata": {},
   "source": [
    "<h1 style=\"text-align:center\"><b>Tugas Sentiment Analysis</b></h1>"
   ]
  },
  {
   "cell_type": "markdown",
   "id": "4dfd2a5c-5c6e-4c91-a67b-fa7edd1334b9",
   "metadata": {},
   "source": [
    "<hr>\n",
    "<table>\n",
    "    <tr>\n",
    "        <td><b>NIM</b></td>\n",
    "        <td>:</td>\n",
    "        <td>20.01.53.0033</td>\n",
    "    </tr>\n",
    "    <tr>\n",
    "        <td><b>Nama</b></td>\n",
    "        <td>:</td>\n",
    "        <td>MUHAMMAD FALAH ABDURRAFI</td>\n",
    "    </tr>\n",
    "    <tr>\n",
    "        <td><b>Progdi</b></td>\n",
    "        <td>:</td>\n",
    "        <td>Teknik Informatika - S1</td>\n",
    "    </tr>\n",
    "    <tr>\n",
    "        <td><b>Mata Kuliah</b></td>\n",
    "        <td>:</td>\n",
    "        <td>Text Mining</td>\n",
    "    </tr>\n",
    "    <tr>\n",
    "        <td><b>Kelas</b></td>\n",
    "        <td>:</td>\n",
    "        <td>A1</td>\n",
    "    </tr>\n",
    "    <tr>\n",
    "        <td><b>Dosen Pengampu</b></td>\n",
    "        <td>:</td>\n",
    "        <td>Dr. Drs. ERI ZULIARSO, M.Kom.</td>\n",
    "    </tr>\n",
    "</table>\n",
    "<hr>"
   ]
  },
  {
   "cell_type": "markdown",
   "id": "5f0568c3-97fa-4dfa-ae9e-61da0dce2dde",
   "metadata": {
    "tags": []
   },
   "source": [
    "<br>\n",
    "<h3><b>Import Libraries</b></h3>"
   ]
  },
  {
   "cell_type": "code",
   "execution_count": 1,
   "id": "04c79b26-36be-46ae-b22d-2243488fbf41",
   "metadata": {},
   "outputs": [],
   "source": [
    "import numpy as np \n",
    "import pandas as pd\n",
    "import matplotlib.pyplot as plt\n",
    "import seaborn as sns\n",
    "%matplotlib inline\n",
    "sns.set_style(\"whitegrid\")\n",
    "\n",
    "# Warnings\n",
    "import warnings\n",
    "warnings.filterwarnings('ignore')"
   ]
  },
  {
   "cell_type": "markdown",
   "id": "f2c8e69c-8bfa-4b29-ac74-7f99a9f13b16",
   "metadata": {
    "tags": []
   },
   "source": [
    "<br>\n",
    "<h3><b>Read CSV Files</b></h3>"
   ]
  },
  {
   "cell_type": "code",
   "execution_count": 2,
   "id": "135a94aa-fb7f-4e52-9a10-2539356f67d2",
   "metadata": {
    "_cell_guid": "79c7e3d0-c299-4dcb-8224-4455121ee9b0",
    "_uuid": "d629ff2d2480ee46fbb7e2d37f6b5fab8052498a"
   },
   "outputs": [
    {
     "name": "stdout",
     "output_type": "stream",
     "text": [
      "800\n"
     ]
    },
    {
     "data": {
      "text/html": [
       "<div>\n",
       "<style scoped>\n",
       "    .dataframe tbody tr th:only-of-type {\n",
       "        vertical-align: middle;\n",
       "    }\n",
       "\n",
       "    .dataframe tbody tr th {\n",
       "        vertical-align: top;\n",
       "    }\n",
       "\n",
       "    .dataframe thead th {\n",
       "        text-align: right;\n",
       "    }\n",
       "</style>\n",
       "<table border=\"1\" class=\"dataframe\">\n",
       "  <thead>\n",
       "    <tr style=\"text-align: right;\">\n",
       "      <th></th>\n",
       "      <th>hospital_name</th>\n",
       "      <th>name</th>\n",
       "      <th>rating</th>\n",
       "      <th>review</th>\n",
       "    </tr>\n",
       "  </thead>\n",
       "  <tbody>\n",
       "    <tr>\n",
       "      <th>0</th>\n",
       "      <td>Siloam Hospitals Semarang</td>\n",
       "      <td>Eko Charnius Ilman (Eko)</td>\n",
       "      <td>5.0</td>\n",
       "      <td>It is not a big hospital but cares with your s...</td>\n",
       "    </tr>\n",
       "    <tr>\n",
       "      <th>1</th>\n",
       "      <td>Siloam Hospitals Semarang</td>\n",
       "      <td>Theodora Rini</td>\n",
       "      <td>5.0</td>\n",
       "      <td>This place is superb among other hospitals in ...</td>\n",
       "    </tr>\n",
       "    <tr>\n",
       "      <th>2</th>\n",
       "      <td>Siloam Hospitals Semarang</td>\n",
       "      <td>Baskara Widhi</td>\n",
       "      <td>2.0</td>\n",
       "      <td>I'm glad that this clinic have 24 hours servic...</td>\n",
       "    </tr>\n",
       "    <tr>\n",
       "      <th>3</th>\n",
       "      <td>Siloam Hospitals Semarang</td>\n",
       "      <td>Irfan Murtadho</td>\n",
       "      <td>3.0</td>\n",
       "      <td>Well organised Hospitals in Semarang, with sev...</td>\n",
       "    </tr>\n",
       "    <tr>\n",
       "      <th>4</th>\n",
       "      <td>Siloam Hospitals Semarang</td>\n",
       "      <td>MsErynn8</td>\n",
       "      <td>5.0</td>\n",
       "      <td>My husband needed to flight out and thus requi...</td>\n",
       "    </tr>\n",
       "    <tr>\n",
       "      <th>...</th>\n",
       "      <td>...</td>\n",
       "      <td>...</td>\n",
       "      <td>...</td>\n",
       "      <td>...</td>\n",
       "    </tr>\n",
       "    <tr>\n",
       "      <th>795</th>\n",
       "      <td>RSIA Kusuma Pradja Semarang</td>\n",
       "      <td>Della Elistia</td>\n",
       "      <td>5.0</td>\n",
       "      <td>(Translated by Google) Very friendly health se...</td>\n",
       "    </tr>\n",
       "    <tr>\n",
       "      <th>796</th>\n",
       "      <td>RSIA Kusuma Pradja Semarang</td>\n",
       "      <td>Dini Putri Lestari</td>\n",
       "      <td>5.0</td>\n",
       "      <td>(Translated by Google) Doctor Sugono is kind, ...</td>\n",
       "    </tr>\n",
       "    <tr>\n",
       "      <th>797</th>\n",
       "      <td>RSIA Kusuma Pradja Semarang</td>\n",
       "      <td>andrihadi wijaya</td>\n",
       "      <td>5.0</td>\n",
       "      <td>(Translated by Google) Good service and facili...</td>\n",
       "    </tr>\n",
       "    <tr>\n",
       "      <th>798</th>\n",
       "      <td>RSIA Kusuma Pradja Semarang</td>\n",
       "      <td>Dewiokta Viani</td>\n",
       "      <td>5.0</td>\n",
       "      <td>(Translated by Google) Birth and pregnancy con...</td>\n",
       "    </tr>\n",
       "    <tr>\n",
       "      <th>799</th>\n",
       "      <td>RSIA Kusuma Pradja Semarang</td>\n",
       "      <td>Aura Lintang</td>\n",
       "      <td>5.0</td>\n",
       "      <td>(Translated by Google) Thank you Dr. Sugono is...</td>\n",
       "    </tr>\n",
       "  </tbody>\n",
       "</table>\n",
       "<p>800 rows × 4 columns</p>\n",
       "</div>"
      ],
      "text/plain": [
       "                   hospital_name                      name  rating  \\\n",
       "0      Siloam Hospitals Semarang  Eko Charnius Ilman (Eko)     5.0   \n",
       "1      Siloam Hospitals Semarang             Theodora Rini     5.0   \n",
       "2      Siloam Hospitals Semarang             Baskara Widhi     2.0   \n",
       "3      Siloam Hospitals Semarang            Irfan Murtadho     3.0   \n",
       "4      Siloam Hospitals Semarang                  MsErynn8     5.0   \n",
       "..                           ...                       ...     ...   \n",
       "795  RSIA Kusuma Pradja Semarang             Della Elistia     5.0   \n",
       "796  RSIA Kusuma Pradja Semarang        Dini Putri Lestari     5.0   \n",
       "797  RSIA Kusuma Pradja Semarang          andrihadi wijaya     5.0   \n",
       "798  RSIA Kusuma Pradja Semarang            Dewiokta Viani     5.0   \n",
       "799  RSIA Kusuma Pradja Semarang              Aura Lintang     5.0   \n",
       "\n",
       "                                                review  \n",
       "0    It is not a big hospital but cares with your s...  \n",
       "1    This place is superb among other hospitals in ...  \n",
       "2    I'm glad that this clinic have 24 hours servic...  \n",
       "3    Well organised Hospitals in Semarang, with sev...  \n",
       "4    My husband needed to flight out and thus requi...  \n",
       "..                                                 ...  \n",
       "795  (Translated by Google) Very friendly health se...  \n",
       "796  (Translated by Google) Doctor Sugono is kind, ...  \n",
       "797  (Translated by Google) Good service and facili...  \n",
       "798  (Translated by Google) Birth and pregnancy con...  \n",
       "799  (Translated by Google) Thank you Dr. Sugono is...  \n",
       "\n",
       "[800 rows x 4 columns]"
      ]
     },
     "execution_count": 2,
     "metadata": {},
     "output_type": "execute_result"
    }
   ],
   "source": [
    "filenames = [\n",
    "              \"CSV/hospital_reviews.csv\",\n",
    "              # \"CSV/hospital_reviews_04.csv\",\n",
    "              # \"CSV/hospital_reviews_lowest_rating.csv\",\n",
    "              # \"CSV/hospital_reviews_highest_rating.csv\"\n",
    "            ]\n",
    "\n",
    "# merging two csv files\n",
    "df = pd.concat(\n",
    "    map(pd.read_csv, filenames), ignore_index=True)\n",
    "\n",
    "print(len(df))\n",
    "df"
   ]
  },
  {
   "cell_type": "markdown",
   "id": "bcc613c0-cb81-476f-8c3b-b4cb4c3eac15",
   "metadata": {
    "tags": []
   },
   "source": [
    "<br>\n",
    "<h3><b>Remove unnecessary Rows / Columns</b></h3>"
   ]
  },
  {
   "cell_type": "code",
   "execution_count": 3,
   "id": "59e71670-72bd-452a-a7eb-24a92ceceb32",
   "metadata": {},
   "outputs": [
    {
     "name": "stdout",
     "output_type": "stream",
     "text": [
      "600\n"
     ]
    },
    {
     "data": {
      "text/html": [
       "<div>\n",
       "<style scoped>\n",
       "    .dataframe tbody tr th:only-of-type {\n",
       "        vertical-align: middle;\n",
       "    }\n",
       "\n",
       "    .dataframe tbody tr th {\n",
       "        vertical-align: top;\n",
       "    }\n",
       "\n",
       "    .dataframe thead th {\n",
       "        text-align: right;\n",
       "    }\n",
       "</style>\n",
       "<table border=\"1\" class=\"dataframe\">\n",
       "  <thead>\n",
       "    <tr style=\"text-align: right;\">\n",
       "      <th></th>\n",
       "      <th>rating</th>\n",
       "      <th>review</th>\n",
       "    </tr>\n",
       "  </thead>\n",
       "  <tbody>\n",
       "    <tr>\n",
       "      <th>0</th>\n",
       "      <td>5.0</td>\n",
       "      <td>It is not a big hospital but cares with your s...</td>\n",
       "    </tr>\n",
       "    <tr>\n",
       "      <th>1</th>\n",
       "      <td>5.0</td>\n",
       "      <td>This place is superb among other hospitals in ...</td>\n",
       "    </tr>\n",
       "    <tr>\n",
       "      <th>2</th>\n",
       "      <td>2.0</td>\n",
       "      <td>I'm glad that this clinic have 24 hours servic...</td>\n",
       "    </tr>\n",
       "    <tr>\n",
       "      <th>3</th>\n",
       "      <td>3.0</td>\n",
       "      <td>Well organised Hospitals in Semarang, with sev...</td>\n",
       "    </tr>\n",
       "    <tr>\n",
       "      <th>4</th>\n",
       "      <td>5.0</td>\n",
       "      <td>My husband needed to flight out and thus requi...</td>\n",
       "    </tr>\n",
       "    <tr>\n",
       "      <th>...</th>\n",
       "      <td>...</td>\n",
       "      <td>...</td>\n",
       "    </tr>\n",
       "    <tr>\n",
       "      <th>795</th>\n",
       "      <td>5.0</td>\n",
       "      <td>(Translated by Google) Very friendly health se...</td>\n",
       "    </tr>\n",
       "    <tr>\n",
       "      <th>796</th>\n",
       "      <td>5.0</td>\n",
       "      <td>(Translated by Google) Doctor Sugono is kind, ...</td>\n",
       "    </tr>\n",
       "    <tr>\n",
       "      <th>797</th>\n",
       "      <td>5.0</td>\n",
       "      <td>(Translated by Google) Good service and facili...</td>\n",
       "    </tr>\n",
       "    <tr>\n",
       "      <th>798</th>\n",
       "      <td>5.0</td>\n",
       "      <td>(Translated by Google) Birth and pregnancy con...</td>\n",
       "    </tr>\n",
       "    <tr>\n",
       "      <th>799</th>\n",
       "      <td>5.0</td>\n",
       "      <td>(Translated by Google) Thank you Dr. Sugono is...</td>\n",
       "    </tr>\n",
       "  </tbody>\n",
       "</table>\n",
       "<p>600 rows × 2 columns</p>\n",
       "</div>"
      ],
      "text/plain": [
       "     rating                                             review\n",
       "0       5.0  It is not a big hospital but cares with your s...\n",
       "1       5.0  This place is superb among other hospitals in ...\n",
       "2       2.0  I'm glad that this clinic have 24 hours servic...\n",
       "3       3.0  Well organised Hospitals in Semarang, with sev...\n",
       "4       5.0  My husband needed to flight out and thus requi...\n",
       "..      ...                                                ...\n",
       "795     5.0  (Translated by Google) Very friendly health se...\n",
       "796     5.0  (Translated by Google) Doctor Sugono is kind, ...\n",
       "797     5.0  (Translated by Google) Good service and facili...\n",
       "798     5.0  (Translated by Google) Birth and pregnancy con...\n",
       "799     5.0  (Translated by Google) Thank you Dr. Sugono is...\n",
       "\n",
       "[600 rows x 2 columns]"
      ]
     },
     "execution_count": 3,
     "metadata": {},
     "output_type": "execute_result"
    }
   ],
   "source": [
    "# df.drop(df[df['hospital_name'] == \"RSIA Kusuma Pradja Semarang\"].index, inplace = True)\n",
    "df.drop(df[df['hospital_name'] == \"Primaya Hospital Semarang\"].index, inplace = True)\n",
    "df.drop(df[df['hospital_name'] == \"Dr. Amino Gondohutomo Regional Psychiatric Hospital\"].index, inplace = True)\n",
    "\n",
    "# df.drop(df[df['rating'] == 3.0].index, inplace = True)\n",
    "\n",
    "df.drop(columns = ['hospital_name', 'name'], inplace = True)\n",
    "\n",
    "print(len(df))\n",
    "df"
   ]
  },
  {
   "cell_type": "markdown",
   "id": "9cb2791b-db44-45a0-9dd7-8f6eb94ddc71",
   "metadata": {
    "tags": []
   },
   "source": [
    "<br>\n",
    "<h3><b>Remove these texts</b> (If exists) :</h3>\n",
    "<ul>\n",
    "    <li>(Translated by Google)</li>\n",
    "    <li>(Original)</li>\n",
    "    <li>The original text (In indonesian, before translated by google)</li>\n",
    "</ul>"
   ]
  },
  {
   "cell_type": "code",
   "execution_count": 4,
   "id": "eb18a49a-652d-4c1f-8202-927127ed33a4",
   "metadata": {},
   "outputs": [],
   "source": [
    "review_remove_translated = []\n",
    "\n",
    "reviews_dict = df.to_dict('list')\n",
    "\n",
    "for review in reviews_dict['review']:\n",
    "  review_sep = str(review).split(\"(Translated by Google) \")\n",
    "  \n",
    "  # Jika terdapat (Translated by Google)\n",
    "  if review_sep[0] == \"\":\n",
    "    review_sep = (\"\".join(review_sep)).split(\"(Original)\")\n",
    "    review_sep = review_sep[0]\n",
    "    review = \"\".join(review_sep)\n",
    "  \n",
    "  review_remove_translated.append(review)"
   ]
  },
  {
   "cell_type": "code",
   "execution_count": 5,
   "id": "0418eee4-d637-4c9f-b0c4-6d15a9937e7b",
   "metadata": {},
   "outputs": [
    {
     "data": {
      "text/html": [
       "<div>\n",
       "<style scoped>\n",
       "    .dataframe tbody tr th:only-of-type {\n",
       "        vertical-align: middle;\n",
       "    }\n",
       "\n",
       "    .dataframe tbody tr th {\n",
       "        vertical-align: top;\n",
       "    }\n",
       "\n",
       "    .dataframe thead th {\n",
       "        text-align: right;\n",
       "    }\n",
       "</style>\n",
       "<table border=\"1\" class=\"dataframe\">\n",
       "  <thead>\n",
       "    <tr style=\"text-align: right;\">\n",
       "      <th></th>\n",
       "      <th>rating</th>\n",
       "      <th>review</th>\n",
       "    </tr>\n",
       "  </thead>\n",
       "  <tbody>\n",
       "    <tr>\n",
       "      <th>0</th>\n",
       "      <td>5.0</td>\n",
       "      <td>It is not a big hospital but cares with your s...</td>\n",
       "    </tr>\n",
       "    <tr>\n",
       "      <th>1</th>\n",
       "      <td>5.0</td>\n",
       "      <td>This place is superb among other hospitals in ...</td>\n",
       "    </tr>\n",
       "    <tr>\n",
       "      <th>2</th>\n",
       "      <td>2.0</td>\n",
       "      <td>I'm glad that this clinic have 24 hours servic...</td>\n",
       "    </tr>\n",
       "    <tr>\n",
       "      <th>3</th>\n",
       "      <td>3.0</td>\n",
       "      <td>Well organised Hospitals in Semarang, with sev...</td>\n",
       "    </tr>\n",
       "    <tr>\n",
       "      <th>4</th>\n",
       "      <td>5.0</td>\n",
       "      <td>My husband needed to flight out and thus requi...</td>\n",
       "    </tr>\n",
       "    <tr>\n",
       "      <th>...</th>\n",
       "      <td>...</td>\n",
       "      <td>...</td>\n",
       "    </tr>\n",
       "    <tr>\n",
       "      <th>595</th>\n",
       "      <td>5.0</td>\n",
       "      <td>Very friendly health service..the doctors and ...</td>\n",
       "    </tr>\n",
       "    <tr>\n",
       "      <th>596</th>\n",
       "      <td>5.0</td>\n",
       "      <td>Doctor Sugono is kind, friendly, good, detaile...</td>\n",
       "    </tr>\n",
       "    <tr>\n",
       "      <th>597</th>\n",
       "      <td>5.0</td>\n",
       "      <td>Good service and facilities. The doctor is fri...</td>\n",
       "    </tr>\n",
       "    <tr>\n",
       "      <th>598</th>\n",
       "      <td>5.0</td>\n",
       "      <td>Birth and pregnancy control are always here. C...</td>\n",
       "    </tr>\n",
       "    <tr>\n",
       "      <th>599</th>\n",
       "      <td>5.0</td>\n",
       "      <td>Thank you Dr. Sugono is very good at handling ...</td>\n",
       "    </tr>\n",
       "  </tbody>\n",
       "</table>\n",
       "<p>600 rows × 2 columns</p>\n",
       "</div>"
      ],
      "text/plain": [
       "     rating                                             review\n",
       "0       5.0  It is not a big hospital but cares with your s...\n",
       "1       5.0  This place is superb among other hospitals in ...\n",
       "2       2.0  I'm glad that this clinic have 24 hours servic...\n",
       "3       3.0  Well organised Hospitals in Semarang, with sev...\n",
       "4       5.0  My husband needed to flight out and thus requi...\n",
       "..      ...                                                ...\n",
       "595     5.0  Very friendly health service..the doctors and ...\n",
       "596     5.0  Doctor Sugono is kind, friendly, good, detaile...\n",
       "597     5.0  Good service and facilities. The doctor is fri...\n",
       "598     5.0  Birth and pregnancy control are always here. C...\n",
       "599     5.0  Thank you Dr. Sugono is very good at handling ...\n",
       "\n",
       "[600 rows x 2 columns]"
      ]
     },
     "execution_count": 5,
     "metadata": {},
     "output_type": "execute_result"
    }
   ],
   "source": [
    "reviews_dict['review'] = review_remove_translated\n",
    "df = pd.DataFrame(reviews_dict)\n",
    "df\n",
    "# for r in reviews_dict['review']:\n",
    "#   print(r,'\\n')"
   ]
  },
  {
   "cell_type": "markdown",
   "id": "7c31f94c-2f80-4f92-a172-722b265a0a1a",
   "metadata": {},
   "source": [
    "<br><br>\n",
    "<h1><b>Preprocessing the data</b></h1>"
   ]
  },
  {
   "cell_type": "markdown",
   "id": "a3ce6953-b4ce-428b-942f-ae88cd1f97a5",
   "metadata": {
    "tags": []
   },
   "source": [
    "<br>\n",
    "<h4><b>1. Cleaning the text</b></h4>"
   ]
  },
  {
   "cell_type": "code",
   "execution_count": 6,
   "id": "3e5bea3c-f141-44df-9cc3-931d30f3cf19",
   "metadata": {},
   "outputs": [],
   "source": [
    "import string\n",
    "import re"
   ]
  },
  {
   "cell_type": "code",
   "execution_count": 7,
   "id": "fe53c964-48bf-4de1-adc2-0ab5d55f45e9",
   "metadata": {},
   "outputs": [],
   "source": [
    "def clean_review(review):\n",
    "    return re.sub('[^a-zA-Z]', ' ', review).lower()\n",
    "  \n",
    "df['cleaned_review'] = df['review'].apply(lambda x: clean_review(str(x)))\n",
    "df['label'] = df['rating'].map({1.0:0, 2.0:0, 3.0:0, 4.0:1, 5.0:1})"
   ]
  },
  {
   "cell_type": "markdown",
   "id": "6d4347c2-8a48-4663-9849-d932ef794f6d",
   "metadata": {
    "tags": []
   },
   "source": [
    "<br>\n",
    "<h4><b>2. Adding additional features</b> (length of, and percentage of punctuations in the text)</h4>"
   ]
  },
  {
   "cell_type": "code",
   "execution_count": 8,
   "id": "f9763b03-edcc-41d1-a6ab-26b06f018269",
   "metadata": {},
   "outputs": [
    {
     "data": {
      "text/html": [
       "<div>\n",
       "<style scoped>\n",
       "    .dataframe tbody tr th:only-of-type {\n",
       "        vertical-align: middle;\n",
       "    }\n",
       "\n",
       "    .dataframe tbody tr th {\n",
       "        vertical-align: top;\n",
       "    }\n",
       "\n",
       "    .dataframe thead th {\n",
       "        text-align: right;\n",
       "    }\n",
       "</style>\n",
       "<table border=\"1\" class=\"dataframe\">\n",
       "  <thead>\n",
       "    <tr style=\"text-align: right;\">\n",
       "      <th></th>\n",
       "      <th>rating</th>\n",
       "      <th>review</th>\n",
       "      <th>cleaned_review</th>\n",
       "      <th>label</th>\n",
       "      <th>review_len</th>\n",
       "      <th>punct</th>\n",
       "    </tr>\n",
       "  </thead>\n",
       "  <tbody>\n",
       "    <tr>\n",
       "      <th>0</th>\n",
       "      <td>5.0</td>\n",
       "      <td>It is not a big hospital but cares with your s...</td>\n",
       "      <td>it is not a big hospital but cares with your s...</td>\n",
       "      <td>1</td>\n",
       "      <td>646</td>\n",
       "      <td>3.4</td>\n",
       "    </tr>\n",
       "    <tr>\n",
       "      <th>1</th>\n",
       "      <td>5.0</td>\n",
       "      <td>This place is superb among other hospitals in ...</td>\n",
       "      <td>this place is superb among other hospitals in ...</td>\n",
       "      <td>1</td>\n",
       "      <td>555</td>\n",
       "      <td>2.3</td>\n",
       "    </tr>\n",
       "    <tr>\n",
       "      <th>2</th>\n",
       "      <td>2.0</td>\n",
       "      <td>I'm glad that this clinic have 24 hours servic...</td>\n",
       "      <td>i m glad that this clinic have    hours servic...</td>\n",
       "      <td>0</td>\n",
       "      <td>110</td>\n",
       "      <td>2.7</td>\n",
       "    </tr>\n",
       "    <tr>\n",
       "      <th>3</th>\n",
       "      <td>3.0</td>\n",
       "      <td>Well organised Hospitals in Semarang, with sev...</td>\n",
       "      <td>well organised hospitals in semarang  with sev...</td>\n",
       "      <td>0</td>\n",
       "      <td>224</td>\n",
       "      <td>2.2</td>\n",
       "    </tr>\n",
       "    <tr>\n",
       "      <th>4</th>\n",
       "      <td>5.0</td>\n",
       "      <td>My husband needed to flight out and thus requi...</td>\n",
       "      <td>my husband needed to flight out and thus requi...</td>\n",
       "      <td>1</td>\n",
       "      <td>339</td>\n",
       "      <td>4.1</td>\n",
       "    </tr>\n",
       "    <tr>\n",
       "      <th>...</th>\n",
       "      <td>...</td>\n",
       "      <td>...</td>\n",
       "      <td>...</td>\n",
       "      <td>...</td>\n",
       "      <td>...</td>\n",
       "      <td>...</td>\n",
       "    </tr>\n",
       "    <tr>\n",
       "      <th>595</th>\n",
       "      <td>5.0</td>\n",
       "      <td>Very friendly health service..the doctors and ...</td>\n",
       "      <td>very friendly health service  the doctors and ...</td>\n",
       "      <td>1</td>\n",
       "      <td>61</td>\n",
       "      <td>6.6</td>\n",
       "    </tr>\n",
       "    <tr>\n",
       "      <th>596</th>\n",
       "      <td>5.0</td>\n",
       "      <td>Doctor Sugono is kind, friendly, good, detaile...</td>\n",
       "      <td>doctor sugono is kind  friendly  good  detaile...</td>\n",
       "      <td>1</td>\n",
       "      <td>144</td>\n",
       "      <td>4.9</td>\n",
       "    </tr>\n",
       "    <tr>\n",
       "      <th>597</th>\n",
       "      <td>5.0</td>\n",
       "      <td>Good service and facilities. The doctor is fri...</td>\n",
       "      <td>good service and facilities  the doctor is fri...</td>\n",
       "      <td>1</td>\n",
       "      <td>45</td>\n",
       "      <td>4.4</td>\n",
       "    </tr>\n",
       "    <tr>\n",
       "      <th>598</th>\n",
       "      <td>5.0</td>\n",
       "      <td>Birth and pregnancy control are always here. C...</td>\n",
       "      <td>birth and pregnancy control are always here  c...</td>\n",
       "      <td>1</td>\n",
       "      <td>57</td>\n",
       "      <td>3.5</td>\n",
       "    </tr>\n",
       "    <tr>\n",
       "      <th>599</th>\n",
       "      <td>5.0</td>\n",
       "      <td>Thank you Dr. Sugono is very good at handling ...</td>\n",
       "      <td>thank you dr  sugono is very good at handling ...</td>\n",
       "      <td>1</td>\n",
       "      <td>114</td>\n",
       "      <td>4.4</td>\n",
       "    </tr>\n",
       "  </tbody>\n",
       "</table>\n",
       "<p>600 rows × 6 columns</p>\n",
       "</div>"
      ],
      "text/plain": [
       "     rating                                             review  \\\n",
       "0       5.0  It is not a big hospital but cares with your s...   \n",
       "1       5.0  This place is superb among other hospitals in ...   \n",
       "2       2.0  I'm glad that this clinic have 24 hours servic...   \n",
       "3       3.0  Well organised Hospitals in Semarang, with sev...   \n",
       "4       5.0  My husband needed to flight out and thus requi...   \n",
       "..      ...                                                ...   \n",
       "595     5.0  Very friendly health service..the doctors and ...   \n",
       "596     5.0  Doctor Sugono is kind, friendly, good, detaile...   \n",
       "597     5.0  Good service and facilities. The doctor is fri...   \n",
       "598     5.0  Birth and pregnancy control are always here. C...   \n",
       "599     5.0  Thank you Dr. Sugono is very good at handling ...   \n",
       "\n",
       "                                        cleaned_review  label  review_len  \\\n",
       "0    it is not a big hospital but cares with your s...      1         646   \n",
       "1    this place is superb among other hospitals in ...      1         555   \n",
       "2    i m glad that this clinic have    hours servic...      0         110   \n",
       "3    well organised hospitals in semarang  with sev...      0         224   \n",
       "4    my husband needed to flight out and thus requi...      1         339   \n",
       "..                                                 ...    ...         ...   \n",
       "595  very friendly health service  the doctors and ...      1          61   \n",
       "596  doctor sugono is kind  friendly  good  detaile...      1         144   \n",
       "597  good service and facilities  the doctor is fri...      1          45   \n",
       "598  birth and pregnancy control are always here  c...      1          57   \n",
       "599  thank you dr  sugono is very good at handling ...      1         114   \n",
       "\n",
       "     punct  \n",
       "0      3.4  \n",
       "1      2.3  \n",
       "2      2.7  \n",
       "3      2.2  \n",
       "4      4.1  \n",
       "..     ...  \n",
       "595    6.6  \n",
       "596    4.9  \n",
       "597    4.4  \n",
       "598    3.5  \n",
       "599    4.4  \n",
       "\n",
       "[600 rows x 6 columns]"
      ]
     },
     "execution_count": 8,
     "metadata": {},
     "output_type": "execute_result"
    }
   ],
   "source": [
    "def count_punct(review):\n",
    "    count = sum([1 for char in review if char in string.punctuation])\n",
    "    return round(count/(len(review) - review.count(\" \")), 3)*100\n",
    "  \n",
    "df['review_len'] = df['review'].apply(lambda x: len(str(x)) - str(x).count(\" \"))\n",
    "df['punct'] = df['review'].apply(lambda x: count_punct(str(x)))\n",
    "df"
   ]
  },
  {
   "cell_type": "markdown",
   "id": "a07a8bb6-c4ac-4b35-b0d5-d03d0cf8b4b0",
   "metadata": {
    "tags": []
   },
   "source": [
    "<br>\n",
    "<h4><b>3. Tokenization</b></h4>"
   ]
  },
  {
   "cell_type": "code",
   "execution_count": 9,
   "id": "0f77abce-7a8f-4473-93f6-c06d92e9df5f",
   "metadata": {},
   "outputs": [
    {
     "data": {
      "text/html": [
       "<div>\n",
       "<style scoped>\n",
       "    .dataframe tbody tr th:only-of-type {\n",
       "        vertical-align: middle;\n",
       "    }\n",
       "\n",
       "    .dataframe tbody tr th {\n",
       "        vertical-align: top;\n",
       "    }\n",
       "\n",
       "    .dataframe thead th {\n",
       "        text-align: right;\n",
       "    }\n",
       "</style>\n",
       "<table border=\"1\" class=\"dataframe\">\n",
       "  <thead>\n",
       "    <tr style=\"text-align: right;\">\n",
       "      <th></th>\n",
       "      <th>rating</th>\n",
       "      <th>review</th>\n",
       "      <th>cleaned_review</th>\n",
       "      <th>label</th>\n",
       "      <th>review_len</th>\n",
       "      <th>punct</th>\n",
       "      <th>tokens</th>\n",
       "    </tr>\n",
       "  </thead>\n",
       "  <tbody>\n",
       "    <tr>\n",
       "      <th>0</th>\n",
       "      <td>5.0</td>\n",
       "      <td>It is not a big hospital but cares with your s...</td>\n",
       "      <td>it is not a big hospital but cares with your s...</td>\n",
       "      <td>1</td>\n",
       "      <td>646</td>\n",
       "      <td>3.4</td>\n",
       "      <td>[it, is, not, a, big, hospital, but, cares, wi...</td>\n",
       "    </tr>\n",
       "    <tr>\n",
       "      <th>1</th>\n",
       "      <td>5.0</td>\n",
       "      <td>This place is superb among other hospitals in ...</td>\n",
       "      <td>this place is superb among other hospitals in ...</td>\n",
       "      <td>1</td>\n",
       "      <td>555</td>\n",
       "      <td>2.3</td>\n",
       "      <td>[this, place, is, superb, among, other, hospit...</td>\n",
       "    </tr>\n",
       "    <tr>\n",
       "      <th>2</th>\n",
       "      <td>2.0</td>\n",
       "      <td>I'm glad that this clinic have 24 hours servic...</td>\n",
       "      <td>i m glad that this clinic have    hours servic...</td>\n",
       "      <td>0</td>\n",
       "      <td>110</td>\n",
       "      <td>2.7</td>\n",
       "      <td>[i, m, glad, that, this, clinic, have, hours, ...</td>\n",
       "    </tr>\n",
       "    <tr>\n",
       "      <th>3</th>\n",
       "      <td>3.0</td>\n",
       "      <td>Well organised Hospitals in Semarang, with sev...</td>\n",
       "      <td>well organised hospitals in semarang  with sev...</td>\n",
       "      <td>0</td>\n",
       "      <td>224</td>\n",
       "      <td>2.2</td>\n",
       "      <td>[well, organised, hospitals, in, semarang, wit...</td>\n",
       "    </tr>\n",
       "    <tr>\n",
       "      <th>4</th>\n",
       "      <td>5.0</td>\n",
       "      <td>My husband needed to flight out and thus requi...</td>\n",
       "      <td>my husband needed to flight out and thus requi...</td>\n",
       "      <td>1</td>\n",
       "      <td>339</td>\n",
       "      <td>4.1</td>\n",
       "      <td>[my, husband, needed, to, flight, out, and, th...</td>\n",
       "    </tr>\n",
       "  </tbody>\n",
       "</table>\n",
       "</div>"
      ],
      "text/plain": [
       "   rating                                             review  \\\n",
       "0     5.0  It is not a big hospital but cares with your s...   \n",
       "1     5.0  This place is superb among other hospitals in ...   \n",
       "2     2.0  I'm glad that this clinic have 24 hours servic...   \n",
       "3     3.0  Well organised Hospitals in Semarang, with sev...   \n",
       "4     5.0  My husband needed to flight out and thus requi...   \n",
       "\n",
       "                                      cleaned_review  label  review_len  \\\n",
       "0  it is not a big hospital but cares with your s...      1         646   \n",
       "1  this place is superb among other hospitals in ...      1         555   \n",
       "2  i m glad that this clinic have    hours servic...      0         110   \n",
       "3  well organised hospitals in semarang  with sev...      0         224   \n",
       "4  my husband needed to flight out and thus requi...      1         339   \n",
       "\n",
       "   punct                                             tokens  \n",
       "0    3.4  [it, is, not, a, big, hospital, but, cares, wi...  \n",
       "1    2.3  [this, place, is, superb, among, other, hospit...  \n",
       "2    2.7  [i, m, glad, that, this, clinic, have, hours, ...  \n",
       "3    2.2  [well, organised, hospitals, in, semarang, wit...  \n",
       "4    4.1  [my, husband, needed, to, flight, out, and, th...  "
      ]
     },
     "execution_count": 9,
     "metadata": {},
     "output_type": "execute_result"
    }
   ],
   "source": [
    "def tokenize_review(review):\n",
    "    tokenized_review = review.split()\n",
    "    return tokenized_review\n",
    "  \n",
    "df['tokens'] = df['cleaned_review'].apply(lambda x: tokenize_review(x))\n",
    "df.head()"
   ]
  },
  {
   "cell_type": "markdown",
   "id": "a48f5f88-d737-479b-9fb6-aebd7b6e97c9",
   "metadata": {
    "tags": []
   },
   "source": [
    "<br>\n",
    "<h4><b>4. Lemmatization and Removing Stopwords</b></h4>"
   ]
  },
  {
   "cell_type": "code",
   "execution_count": 10,
   "id": "c19f84af-0878-41d1-9357-6bbac7dfe47b",
   "metadata": {},
   "outputs": [],
   "source": [
    "import nltk\n",
    "from nltk.corpus import stopwords\n",
    "all_stopwords = stopwords.words('english')\n",
    "all_stopwords.remove('not')"
   ]
  },
  {
   "cell_type": "code",
   "execution_count": 11,
   "id": "a751fa64-5cff-4375-b423-dcaa8ef2e722",
   "metadata": {},
   "outputs": [
    {
     "data": {
      "text/html": [
       "<div>\n",
       "<style scoped>\n",
       "    .dataframe tbody tr th:only-of-type {\n",
       "        vertical-align: middle;\n",
       "    }\n",
       "\n",
       "    .dataframe tbody tr th {\n",
       "        vertical-align: top;\n",
       "    }\n",
       "\n",
       "    .dataframe thead th {\n",
       "        text-align: right;\n",
       "    }\n",
       "</style>\n",
       "<table border=\"1\" class=\"dataframe\">\n",
       "  <thead>\n",
       "    <tr style=\"text-align: right;\">\n",
       "      <th></th>\n",
       "      <th>rating</th>\n",
       "      <th>review</th>\n",
       "      <th>cleaned_review</th>\n",
       "      <th>label</th>\n",
       "      <th>review_len</th>\n",
       "      <th>punct</th>\n",
       "      <th>tokens</th>\n",
       "      <th>lemmatized_review</th>\n",
       "    </tr>\n",
       "  </thead>\n",
       "  <tbody>\n",
       "    <tr>\n",
       "      <th>0</th>\n",
       "      <td>5.0</td>\n",
       "      <td>It is not a big hospital but cares with your s...</td>\n",
       "      <td>it is not a big hospital but cares with your s...</td>\n",
       "      <td>1</td>\n",
       "      <td>646</td>\n",
       "      <td>3.4</td>\n",
       "      <td>[it, is, not, a, big, hospital, but, cares, wi...</td>\n",
       "      <td>not big hospital care safety not crowded choos...</td>\n",
       "    </tr>\n",
       "    <tr>\n",
       "      <th>1</th>\n",
       "      <td>5.0</td>\n",
       "      <td>This place is superb among other hospitals in ...</td>\n",
       "      <td>this place is superb among other hospitals in ...</td>\n",
       "      <td>1</td>\n",
       "      <td>555</td>\n",
       "      <td>2.3</td>\n",
       "      <td>[this, place, is, superb, among, other, hospit...</td>\n",
       "      <td>place superb among hospital semarang never exp...</td>\n",
       "    </tr>\n",
       "    <tr>\n",
       "      <th>2</th>\n",
       "      <td>2.0</td>\n",
       "      <td>I'm glad that this clinic have 24 hours servic...</td>\n",
       "      <td>i m glad that this clinic have    hours servic...</td>\n",
       "      <td>0</td>\n",
       "      <td>110</td>\n",
       "      <td>2.7</td>\n",
       "      <td>[i, m, glad, that, this, clinic, have, hours, ...</td>\n",
       "      <td>glad clinic hour service take long antigen tes...</td>\n",
       "    </tr>\n",
       "    <tr>\n",
       "      <th>3</th>\n",
       "      <td>3.0</td>\n",
       "      <td>Well organised Hospitals in Semarang, with sev...</td>\n",
       "      <td>well organised hospitals in semarang  with sev...</td>\n",
       "      <td>0</td>\n",
       "      <td>224</td>\n",
       "      <td>2.2</td>\n",
       "      <td>[well, organised, hospitals, in, semarang, wit...</td>\n",
       "      <td>well organised hospital semarang several exper...</td>\n",
       "    </tr>\n",
       "    <tr>\n",
       "      <th>4</th>\n",
       "      <td>5.0</td>\n",
       "      <td>My husband needed to flight out and thus requi...</td>\n",
       "      <td>my husband needed to flight out and thus requi...</td>\n",
       "      <td>1</td>\n",
       "      <td>339</td>\n",
       "      <td>4.1</td>\n",
       "      <td>[my, husband, needed, to, flight, out, and, th...</td>\n",
       "      <td>husband needed flight thus required covid pcr ...</td>\n",
       "    </tr>\n",
       "  </tbody>\n",
       "</table>\n",
       "</div>"
      ],
      "text/plain": [
       "   rating                                             review  \\\n",
       "0     5.0  It is not a big hospital but cares with your s...   \n",
       "1     5.0  This place is superb among other hospitals in ...   \n",
       "2     2.0  I'm glad that this clinic have 24 hours servic...   \n",
       "3     3.0  Well organised Hospitals in Semarang, with sev...   \n",
       "4     5.0  My husband needed to flight out and thus requi...   \n",
       "\n",
       "                                      cleaned_review  label  review_len  \\\n",
       "0  it is not a big hospital but cares with your s...      1         646   \n",
       "1  this place is superb among other hospitals in ...      1         555   \n",
       "2  i m glad that this clinic have    hours servic...      0         110   \n",
       "3  well organised hospitals in semarang  with sev...      0         224   \n",
       "4  my husband needed to flight out and thus requi...      1         339   \n",
       "\n",
       "   punct                                             tokens  \\\n",
       "0    3.4  [it, is, not, a, big, hospital, but, cares, wi...   \n",
       "1    2.3  [this, place, is, superb, among, other, hospit...   \n",
       "2    2.7  [i, m, glad, that, this, clinic, have, hours, ...   \n",
       "3    2.2  [well, organised, hospitals, in, semarang, wit...   \n",
       "4    4.1  [my, husband, needed, to, flight, out, and, th...   \n",
       "\n",
       "                                   lemmatized_review  \n",
       "0  not big hospital care safety not crowded choos...  \n",
       "1  place superb among hospital semarang never exp...  \n",
       "2  glad clinic hour service take long antigen tes...  \n",
       "3  well organised hospital semarang several exper...  \n",
       "4  husband needed flight thus required covid pcr ...  "
      ]
     },
     "execution_count": 11,
     "metadata": {},
     "output_type": "execute_result"
    }
   ],
   "source": [
    "def lemmatize_review(token_list):\n",
    "    return \" \".join([lemmatizer.lemmatize(token) for token in token_list if not token in set(all_stopwords)])\n",
    "\n",
    "lemmatizer = nltk.stem.WordNetLemmatizer()\n",
    "df['lemmatized_review'] = df['tokens'].apply(lambda x: lemmatize_review(x))\n",
    "df.head()"
   ]
  },
  {
   "cell_type": "markdown",
   "id": "aa76abc8-8f1b-4555-867f-3daabe7fa8b8",
   "metadata": {},
   "source": [
    "<br><br>\n",
    "<h1><b>EDA</b></h1>"
   ]
  },
  {
   "cell_type": "code",
   "execution_count": 12,
   "id": "3f152149-4432-42bb-9693-ea58fd4b4cb0",
   "metadata": {},
   "outputs": [
    {
     "name": "stdout",
     "output_type": "stream",
     "text": [
      "Input data has 600 rows and 8 columns\n",
      "rating 1.0 = 116 rows\n",
      "rating 2.0 = 30 rows\n",
      "rating 3.0 = 35 rows\n",
      "rating 4.0 = 72 rows\n",
      "rating 5.0 = 347 rows\n"
     ]
    }
   ],
   "source": [
    "#  Shape of the dataset, and breakdown of the classes\n",
    "print(f\"Input data has { len(df) } rows and { len(df.columns) } columns\")\n",
    "print(f\"rating 1.0 = { len(df[df['rating']==1.0]) } rows\")\n",
    "print(f\"rating 2.0 = { len(df[df['rating']==2.0]) } rows\")\n",
    "print(f\"rating 3.0 = { len(df[df['rating']==3.0]) } rows\")\n",
    "print(f\"rating 4.0 = { len(df[df['rating']==4.0]) } rows\")\n",
    "print(f\"rating 5.0 = { len(df[df['rating']==5.0]) } rows\")"
   ]
  },
  {
   "cell_type": "code",
   "execution_count": 13,
   "id": "b4126fe6-c224-4d2e-9bbe-1f87435e11b1",
   "metadata": {},
   "outputs": [
    {
     "name": "stdout",
     "output_type": "stream",
     "text": [
      "Number of null in label: 0\n",
      "Number of null in text: 5\n"
     ]
    },
    {
     "data": {
      "image/png": "[encoded data removed]",
      "text/plain": [
       "<Figure size 432x288 with 1 Axes>"
      ]
     },
     "metadata": {},
     "output_type": "display_data"
    }
   ],
   "source": [
    "# Missing values in the dataset\n",
    "print(f\"Number of null in label: { df['rating'].isnull().sum() }\")\n",
    "print(f\"Number of null in text: { df['review'].isnull().sum() }\")\n",
    "sns.countplot(x='rating', data=df);"
   ]
  },
  {
   "cell_type": "markdown",
   "id": "6f2fa21e-c74a-4152-8653-0d29ebc6a2b0",
   "metadata": {},
   "source": [
    "<br><br>\n",
    "<h1><b>Visualizing Word Clouds</b></h1>"
   ]
  },
  {
   "cell_type": "code",
   "execution_count": 14,
   "id": "f1358cd9-5b68-4d76-84d1-3d31260308d0",
   "metadata": {},
   "outputs": [],
   "source": [
    "from wordcloud import WordCloud"
   ]
  },
  {
   "cell_type": "code",
   "execution_count": 15,
   "id": "f699d0c3-bd0b-4f66-87e6-168383e20f87",
   "metadata": {},
   "outputs": [],
   "source": [
    "df_negative = df[ (df['rating']==1.0) | (df['rating']==2.0) | (df['rating']==3.0) ]\n",
    "df_positive = df[ (df['rating']==4.0) | (df['rating']==5.0) ]\n",
    "\n",
    "#convert to list\n",
    "negative_list= df_negative['lemmatized_review'].tolist()\n",
    "positive_list=df_positive['lemmatized_review'].tolist()\n",
    "\n",
    "filtered_negative = (\"\").join(str(negative_list)) #convert the list into a string of negative\n",
    "filtered_negative = filtered_negative.lower()\n",
    "\n",
    "filtered_positive = (\"\").join(str(positive_list)) #convert the list into a string of positive\n",
    "filtered_positive = filtered_positive.lower()"
   ]
  },
  {
   "cell_type": "markdown",
   "id": "fc91acbf-cd55-496a-b9c7-b098fb94e4ab",
   "metadata": {
    "tags": []
   },
   "source": [
    "<br>\n",
    "<h4><b>Word Cloud:</b> Negative Reviews</h4>"
   ]
  },
  {
   "cell_type": "code",
   "execution_count": null,
   "id": "229ef6af-9e9f-406c-a524-94a0c83c0f63",
   "metadata": {},
   "outputs": [],
   "source": [
    "wordcloud = WordCloud(max_font_size = 160, margin=0, background_color = \"white\", colormap=\"Reds\").generate(filtered_negative)\n",
    "plt.figure(figsize=[10,10])\n",
    "plt.imshow(wordcloud, interpolation='bilinear')\n",
    "plt.axis(\"off\")\n",
    "plt.margins(x=0, y=0)\n",
    "plt.title(\"Negative Reviews Word Cloud\")\n",
    "plt.show()"
   ]
  },
  {
   "cell_type": "markdown",
   "id": "6eaa48b2-7e2d-426a-a0c2-69368445c04e",
   "metadata": {
    "tags": []
   },
   "source": [
    "<br>\n",
    "<h4><b>Word Cloud:</b> Positive Reviews</h4>"
   ]
  },
  {
   "cell_type": "code",
   "execution_count": null,
   "id": "df287fda-468b-4cbc-89c5-640c37c4729f",
   "metadata": {},
   "outputs": [],
   "source": [
    "wordcloud = WordCloud(max_font_size = 160, margin=0, background_color = \"white\", colormap=\"Greens\").generate(filtered_positive)\n",
    "plt.figure(figsize=[10,10])\n",
    "plt.imshow(wordcloud, interpolation='bilinear')\n",
    "plt.axis(\"off\")\n",
    "plt.margins(x=0, y=0)\n",
    "plt.title(\"Positive Reviews Word Cloud\")\n",
    "plt.show()"
   ]
  },
  {
   "cell_type": "markdown",
   "id": "2ce876db-68f4-4756-85de-b01a7065339b",
   "metadata": {},
   "source": [
    "<br><br>\n",
    "<h1><b>Feature Extraction from Text</b></h1>\n",
    "<ul>\n",
    "    <li><b>Vectorizer:</b> TF-IDF</li>\n",
    "</ul>"
   ]
  },
  {
   "cell_type": "code",
   "execution_count": 88,
   "id": "16ae57f8-b7bd-472f-be6c-95e882f35d9c",
   "metadata": {},
   "outputs": [
    {
     "name": "stdout",
     "output_type": "stream",
     "text": [
      "(600, 3)\n",
      "(600,)\n"
     ]
    }
   ],
   "source": [
    "X = df[['lemmatized_review', 'review_len', 'punct']]\n",
    "y = df['label']\n",
    "print(X.shape)\n",
    "print(y.shape)"
   ]
  },
  {
   "cell_type": "code",
   "execution_count": 89,
   "id": "a1d15ff6-0310-470b-af29-b8a202bd6f30",
   "metadata": {},
   "outputs": [
    {
     "name": "stdout",
     "output_type": "stream",
     "text": [
      "(420, 3)\n",
      "(180, 3)\n",
      "(420,)\n",
      "(180,)\n"
     ]
    }
   ],
   "source": [
    "from sklearn.model_selection import train_test_split\n",
    "X_train, X_test, y_train, y_test = train_test_split(X, y, test_size = 0.3, random_state = 0)\n",
    "print(X_train.shape)\n",
    "print(X_test.shape)\n",
    "print(y_train.shape)\n",
    "print(y_test.shape)"
   ]
  },
  {
   "cell_type": "code",
   "execution_count": 90,
   "id": "3e4e9310-8589-4794-9abe-3bdcf39001f6",
   "metadata": {},
   "outputs": [
    {
     "data": {
      "text/html": [
       "<div>\n",
       "<style scoped>\n",
       "    .dataframe tbody tr th:only-of-type {\n",
       "        vertical-align: middle;\n",
       "    }\n",
       "\n",
       "    .dataframe tbody tr th {\n",
       "        vertical-align: top;\n",
       "    }\n",
       "\n",
       "    .dataframe thead th {\n",
       "        text-align: right;\n",
       "    }\n",
       "</style>\n",
       "<table border=\"1\" class=\"dataframe\">\n",
       "  <thead>\n",
       "    <tr style=\"text-align: right;\">\n",
       "      <th></th>\n",
       "      <th>review_len</th>\n",
       "      <th>punct</th>\n",
       "      <th>0</th>\n",
       "      <th>1</th>\n",
       "      <th>2</th>\n",
       "      <th>3</th>\n",
       "      <th>4</th>\n",
       "      <th>5</th>\n",
       "      <th>6</th>\n",
       "      <th>7</th>\n",
       "      <th>...</th>\n",
       "      <th>880</th>\n",
       "      <th>881</th>\n",
       "      <th>882</th>\n",
       "      <th>883</th>\n",
       "      <th>884</th>\n",
       "      <th>885</th>\n",
       "      <th>886</th>\n",
       "      <th>887</th>\n",
       "      <th>888</th>\n",
       "      <th>889</th>\n",
       "    </tr>\n",
       "  </thead>\n",
       "  <tbody>\n",
       "    <tr>\n",
       "      <th>0</th>\n",
       "      <td>264</td>\n",
       "      <td>2.3</td>\n",
       "      <td>0.0</td>\n",
       "      <td>0.0</td>\n",
       "      <td>0.0</td>\n",
       "      <td>0.0</td>\n",
       "      <td>0.0</td>\n",
       "      <td>0.0</td>\n",
       "      <td>0.0</td>\n",
       "      <td>0.0</td>\n",
       "      <td>...</td>\n",
       "      <td>0.0</td>\n",
       "      <td>0.0</td>\n",
       "      <td>0.0</td>\n",
       "      <td>0.0</td>\n",
       "      <td>0.0</td>\n",
       "      <td>0.0</td>\n",
       "      <td>0.0</td>\n",
       "      <td>0.0</td>\n",
       "      <td>0.248008</td>\n",
       "      <td>0.0</td>\n",
       "    </tr>\n",
       "    <tr>\n",
       "      <th>1</th>\n",
       "      <td>168</td>\n",
       "      <td>3.6</td>\n",
       "      <td>0.0</td>\n",
       "      <td>0.0</td>\n",
       "      <td>0.0</td>\n",
       "      <td>0.0</td>\n",
       "      <td>0.0</td>\n",
       "      <td>0.0</td>\n",
       "      <td>0.0</td>\n",
       "      <td>0.0</td>\n",
       "      <td>...</td>\n",
       "      <td>0.0</td>\n",
       "      <td>0.0</td>\n",
       "      <td>0.0</td>\n",
       "      <td>0.0</td>\n",
       "      <td>0.0</td>\n",
       "      <td>0.0</td>\n",
       "      <td>0.0</td>\n",
       "      <td>0.0</td>\n",
       "      <td>0.000000</td>\n",
       "      <td>0.0</td>\n",
       "    </tr>\n",
       "    <tr>\n",
       "      <th>2</th>\n",
       "      <td>314</td>\n",
       "      <td>3.8</td>\n",
       "      <td>0.0</td>\n",
       "      <td>0.0</td>\n",
       "      <td>0.0</td>\n",
       "      <td>0.0</td>\n",
       "      <td>0.0</td>\n",
       "      <td>0.0</td>\n",
       "      <td>0.0</td>\n",
       "      <td>0.0</td>\n",
       "      <td>...</td>\n",
       "      <td>0.0</td>\n",
       "      <td>0.0</td>\n",
       "      <td>0.0</td>\n",
       "      <td>0.0</td>\n",
       "      <td>0.0</td>\n",
       "      <td>0.0</td>\n",
       "      <td>0.0</td>\n",
       "      <td>0.0</td>\n",
       "      <td>0.000000</td>\n",
       "      <td>0.0</td>\n",
       "    </tr>\n",
       "    <tr>\n",
       "      <th>3</th>\n",
       "      <td>101</td>\n",
       "      <td>5.0</td>\n",
       "      <td>0.0</td>\n",
       "      <td>0.0</td>\n",
       "      <td>0.0</td>\n",
       "      <td>0.0</td>\n",
       "      <td>0.0</td>\n",
       "      <td>0.0</td>\n",
       "      <td>0.0</td>\n",
       "      <td>0.0</td>\n",
       "      <td>...</td>\n",
       "      <td>0.0</td>\n",
       "      <td>0.0</td>\n",
       "      <td>0.0</td>\n",
       "      <td>0.0</td>\n",
       "      <td>0.0</td>\n",
       "      <td>0.0</td>\n",
       "      <td>0.0</td>\n",
       "      <td>0.0</td>\n",
       "      <td>0.000000</td>\n",
       "      <td>0.0</td>\n",
       "    </tr>\n",
       "    <tr>\n",
       "      <th>4</th>\n",
       "      <td>434</td>\n",
       "      <td>5.5</td>\n",
       "      <td>0.0</td>\n",
       "      <td>0.0</td>\n",
       "      <td>0.0</td>\n",
       "      <td>0.0</td>\n",
       "      <td>0.0</td>\n",
       "      <td>0.0</td>\n",
       "      <td>0.0</td>\n",
       "      <td>0.0</td>\n",
       "      <td>...</td>\n",
       "      <td>0.0</td>\n",
       "      <td>0.0</td>\n",
       "      <td>0.0</td>\n",
       "      <td>0.0</td>\n",
       "      <td>0.0</td>\n",
       "      <td>0.0</td>\n",
       "      <td>0.0</td>\n",
       "      <td>0.0</td>\n",
       "      <td>0.000000</td>\n",
       "      <td>0.0</td>\n",
       "    </tr>\n",
       "  </tbody>\n",
       "</table>\n",
       "<p>5 rows × 892 columns</p>\n",
       "</div>"
      ],
      "text/plain": [
       "   review_len  punct    0    1    2    3    4    5    6    7  ...  880  881  \\\n",
       "0         264    2.3  0.0  0.0  0.0  0.0  0.0  0.0  0.0  0.0  ...  0.0  0.0   \n",
       "1         168    3.6  0.0  0.0  0.0  0.0  0.0  0.0  0.0  0.0  ...  0.0  0.0   \n",
       "2         314    3.8  0.0  0.0  0.0  0.0  0.0  0.0  0.0  0.0  ...  0.0  0.0   \n",
       "3         101    5.0  0.0  0.0  0.0  0.0  0.0  0.0  0.0  0.0  ...  0.0  0.0   \n",
       "4         434    5.5  0.0  0.0  0.0  0.0  0.0  0.0  0.0  0.0  ...  0.0  0.0   \n",
       "\n",
       "   882  883  884  885  886  887       888  889  \n",
       "0  0.0  0.0  0.0  0.0  0.0  0.0  0.248008  0.0  \n",
       "1  0.0  0.0  0.0  0.0  0.0  0.0  0.000000  0.0  \n",
       "2  0.0  0.0  0.0  0.0  0.0  0.0  0.000000  0.0  \n",
       "3  0.0  0.0  0.0  0.0  0.0  0.0  0.000000  0.0  \n",
       "4  0.0  0.0  0.0  0.0  0.0  0.0  0.000000  0.0  \n",
       "\n",
       "[5 rows x 892 columns]"
      ]
     },
     "execution_count": 90,
     "metadata": {},
     "output_type": "execute_result"
    }
   ],
   "source": [
    "from sklearn.feature_extraction.text import TfidfVectorizer\n",
    "tfidf = TfidfVectorizer(max_df = 0.5, min_df = 2) # ignore terms that occur in more than 50% documents and the ones that occur in less than 2\n",
    "tfidf_train = tfidf.fit_transform(X_train['lemmatized_review'])\n",
    "tfidf_test = tfidf.transform(X_test['lemmatized_review'])\n",
    "\n",
    "X_train_vect = pd.concat([X_train[['review_len', 'punct']].reset_index(drop=True), \n",
    "           pd.DataFrame(tfidf_train.toarray())], axis=1)\n",
    "X_test_vect = pd.concat([X_test[['review_len', 'punct']].reset_index(drop=True), \n",
    "           pd.DataFrame(tfidf_test.toarray())], axis=1)\n",
    "\n",
    "X_train_vect.head()"
   ]
  },
  {
   "cell_type": "markdown",
   "id": "bbd602d6-757a-47c4-9c2b-a258a0345e81",
   "metadata": {
    "tags": []
   },
   "source": [
    "<br><br>\n",
    "<h1><b>Visualize Confusion Matrix</b></h1>\n",
    "<ul>\n",
    "    <li><b>Vectorizer:</b> TF-IDF</li>\n",
    "</ul>"
   ]
  },
  {
   "cell_type": "code",
   "execution_count": 21,
   "id": "2efb6fe7-8df8-42ee-b533-03cb2348fddc",
   "metadata": {},
   "outputs": [],
   "source": [
    "from sklearn.metrics import classification_report\n",
    "from sklearn.metrics import confusion_matrix"
   ]
  },
  {
   "cell_type": "markdown",
   "id": "29cef27e-50b9-457a-a0f4-2ff96a3f4b5d",
   "metadata": {
    "tags": []
   },
   "source": [
    "<hr>\n",
    "<h4><b>Algorithms:</b> Multinomial Naive Bayes</h4>"
   ]
  },
  {
   "cell_type": "code",
   "execution_count": 22,
   "id": "3f62e554-16ec-425b-bf38-df0873441b9e",
   "metadata": {},
   "outputs": [
    {
     "name": "stdout",
     "output_type": "stream",
     "text": [
      "              precision    recall  f1-score   support\n",
      "\n",
      "           0       0.60      0.62      0.61        50\n",
      "           1       0.85      0.84      0.84       130\n",
      "\n",
      "    accuracy                           0.78       180\n",
      "   macro avg       0.72      0.73      0.73       180\n",
      "weighted avg       0.78      0.78      0.78       180\n",
      "\n"
     ]
    },
    {
     "data": {
      "image/png": "[encoded data removed]",
      "text/plain": [
       "<Figure size 432x288 with 2 Axes>"
      ]
     },
     "metadata": {},
     "output_type": "display_data"
    }
   ],
   "source": [
    "from sklearn.naive_bayes import MultinomialNB\n",
    "classifier = MultinomialNB()\n",
    "classifier.fit(X_train_vect, y_train)\n",
    "naive_bayes_pred = classifier.predict(X_test_vect)\n",
    "\n",
    "# Classification Report\n",
    "print(classification_report(y_test, naive_bayes_pred))\n",
    "\n",
    "# Confusion Matrix\n",
    "class_label = [\"negative\", \"positive\"]\n",
    "df_cm = pd.DataFrame(confusion_matrix(y_test, naive_bayes_pred), index=class_label, columns=class_label)\n",
    "sns.heatmap(df_cm, annot=True, fmt='d')\n",
    "plt.title(\"Confusion Matrix\")\n",
    "plt.xlabel(\"Predicted Label\")\n",
    "plt.ylabel(\"True Label\")\n",
    "plt.show()"
   ]
  },
  {
   "cell_type": "markdown",
   "id": "c36de11f-2d51-4d8e-9e34-79af86465dac",
   "metadata": {
    "tags": []
   },
   "source": [
    "<hr>\n",
    "<h4><b>Algorithms:</b> Random Forest Classifier</h4>"
   ]
  },
  {
   "cell_type": "code",
   "execution_count": 23,
   "id": "061708c0-5f61-4ae5-9221-4328d4fa6893",
   "metadata": {},
   "outputs": [
    {
     "name": "stdout",
     "output_type": "stream",
     "text": [
      "              precision    recall  f1-score   support\n",
      "\n",
      "           0       0.90      0.72      0.80        50\n",
      "           1       0.90      0.97      0.93       130\n",
      "\n",
      "    accuracy                           0.90       180\n",
      "   macro avg       0.90      0.84      0.87       180\n",
      "weighted avg       0.90      0.90      0.90       180\n",
      "\n"
     ]
    },
    {
     "data": {
      "image/png": "[encoded data removed]",
      "text/plain": [
       "<Figure size 432x288 with 2 Axes>"
      ]
     },
     "metadata": {},
     "output_type": "display_data"
    }
   ],
   "source": [
    "from sklearn.ensemble import RandomForestClassifier\n",
    "classifier = RandomForestClassifier(n_estimators=150)\n",
    "classifier.fit(X_train_vect, y_train)\n",
    "random_forest_pred = classifier.predict(X_test_vect)\n",
    "\n",
    "# Classification report\n",
    "print(classification_report(y_test, random_forest_pred))\n",
    "\n",
    "# Confusion Matrix\n",
    "class_label = [\"negative\", \"positive\"]\n",
    "df_cm = pd.DataFrame(confusion_matrix(y_test, random_forest_pred), index=class_label, columns=class_label)\n",
    "sns.heatmap(df_cm, annot=True, fmt='d')\n",
    "plt.title(\"Confusion Matrix\")\n",
    "plt.xlabel(\"Predicted Label\")\n",
    "plt.ylabel(\"True Label\")\n",
    "plt.show()"
   ]
  },
  {
   "cell_type": "markdown",
   "id": "3b4ea55a-2b97-4af9-9391-c2af3df6802a",
   "metadata": {
    "tags": []
   },
   "source": [
    "<hr>\n",
    "<h4><b>Algorithms:</b> Logistic Regression</h4>"
   ]
  },
  {
   "cell_type": "code",
   "execution_count": 24,
   "id": "af53b6c1-405e-4c7f-8b83-c24a032a1cea",
   "metadata": {},
   "outputs": [
    {
     "name": "stdout",
     "output_type": "stream",
     "text": [
      "              precision    recall  f1-score   support\n",
      "\n",
      "           0       0.77      0.68      0.72        50\n",
      "           1       0.88      0.92      0.90       130\n",
      "\n",
      "    accuracy                           0.86       180\n",
      "   macro avg       0.83      0.80      0.81       180\n",
      "weighted avg       0.85      0.86      0.85       180\n",
      "\n"
     ]
    },
    {
     "data": {
      "image/png": "[encoded data removed]",
      "text/plain": [
       "<Figure size 432x288 with 2 Axes>"
      ]
     },
     "metadata": {},
     "output_type": "display_data"
    }
   ],
   "source": [
    "from sklearn.linear_model import LogisticRegression\n",
    "classifier = LogisticRegression()\n",
    "classifier.fit(X_train_vect, y_train)\n",
    "log_reg_pred = classifier.predict(X_test_vect)\n",
    "# Classification report\n",
    "print(classification_report(y_test, log_reg_pred))\n",
    "\n",
    "# Confusion Matrix\n",
    "class_label = [\"negative\", \"positive\"]\n",
    "df_cm = pd.DataFrame(confusion_matrix(y_test, log_reg_pred), index=class_label, columns=class_label)\n",
    "sns.heatmap(df_cm, annot=True, fmt='d')\n",
    "plt.title(\"Confusion Matrix\")\n",
    "plt.xlabel(\"Predicted Label\")\n",
    "plt.ylabel(\"True Label\")\n",
    "plt.show()"
   ]
  },
  {
   "cell_type": "markdown",
   "id": "95c111f8-e313-4808-8791-3eb602303f4e",
   "metadata": {
    "tags": []
   },
   "source": [
    "<hr>\n",
    "<h4><b>Algorithms:</b> Support Vector Machine (SVM)</h4>"
   ]
  },
  {
   "cell_type": "code",
   "execution_count": 25,
   "id": "ee627068-d61b-4f83-ad25-15a810d08f49",
   "metadata": {},
   "outputs": [
    {
     "name": "stdout",
     "output_type": "stream",
     "text": [
      "              precision    recall  f1-score   support\n",
      "\n",
      "           0       0.90      0.76      0.83        50\n",
      "           1       0.91      0.97      0.94       130\n",
      "\n",
      "    accuracy                           0.91       180\n",
      "   macro avg       0.91      0.86      0.88       180\n",
      "weighted avg       0.91      0.91      0.91       180\n",
      "\n"
     ]
    },
    {
     "data": {
      "image/png": "[encoded data removed]",
      "text/plain": [
       "<Figure size 432x288 with 2 Axes>"
      ]
     },
     "metadata": {},
     "output_type": "display_data"
    }
   ],
   "source": [
    "from sklearn.svm import SVC\n",
    "classifier = SVC(kernel = 'linear', random_state = 0)\n",
    "classifier.fit(X_train_vect, y_train)\n",
    "svm_pred = classifier.predict(X_test_vect)\n",
    "# Classification report\n",
    "print(classification_report(y_test, svm_pred))\n",
    "\n",
    "# Confusion Matrix\n",
    "class_label = [\"negative\", \"positive\"]\n",
    "df_cm = pd.DataFrame(confusion_matrix(y_test, svm_pred), index=class_label, columns=class_label)\n",
    "sns.heatmap(df_cm, annot=True, fmt='d')\n",
    "plt.title(\"Confusion Matrix\")\n",
    "plt.xlabel(\"Predicted Label\")\n",
    "plt.ylabel(\"True Label\")\n",
    "plt.show()"
   ]
  },
  {
   "cell_type": "markdown",
   "id": "89dfef44-5efa-4887-89e5-ec819e427821",
   "metadata": {
    "tags": []
   },
   "source": [
    "<hr>\n",
    "<h4><b>Algorithms:</b> K-Nearest Neighbor (KNN)</h4>"
   ]
  },
  {
   "cell_type": "code",
   "execution_count": 26,
   "id": "a0cc6cff-914d-4ce8-b8d9-39292b127a5a",
   "metadata": {},
   "outputs": [
    {
     "name": "stdout",
     "output_type": "stream",
     "text": [
      "              precision    recall  f1-score   support\n",
      "\n",
      "           0       0.36      0.30      0.33        50\n",
      "           1       0.75      0.79      0.77       130\n",
      "\n",
      "    accuracy                           0.66       180\n",
      "   macro avg       0.55      0.55      0.55       180\n",
      "weighted avg       0.64      0.66      0.65       180\n",
      "\n"
     ]
    },
    {
     "data": {
      "image/png": "[encoded data removed]",
      "text/plain": [
       "<Figure size 432x288 with 2 Axes>"
      ]
     },
     "metadata": {},
     "output_type": "display_data"
    }
   ],
   "source": [
    "from sklearn.neighbors import KNeighborsClassifier\n",
    "classifier = KNeighborsClassifier(n_neighbors = 5)\n",
    "classifier.fit(X_train_vect, y_train)\n",
    "knn_pred = classifier.predict(X_test_vect)\n",
    "\n",
    "# Classification report\n",
    "print(classification_report(y_test, knn_pred))\n",
    "\n",
    "# Confusion Matrix\n",
    "class_label = [\"negative\", \"positive\"]\n",
    "df_cm = pd.DataFrame(confusion_matrix(y_test, knn_pred), index=class_label, columns=class_label)\n",
    "sns.heatmap(df_cm, annot=True, fmt='d')\n",
    "plt.title(\"Confusion Matrix\")\n",
    "plt.xlabel(\"Predicted Label\")\n",
    "plt.ylabel(\"True Label\")\n",
    "plt.show()"
   ]
  },
  {
   "cell_type": "markdown",
   "id": "b3b5aa4f-5e90-46d7-bf1e-a61f0fc60702",
   "metadata": {
    "tags": []
   },
   "source": [
    "<hr>\n",
    "<h4><b>Algorithms:</b> Extra Trees Classifier</h4>"
   ]
  },
  {
   "cell_type": "code",
   "execution_count": 27,
   "id": "3f7f5bdc-7691-43c8-a759-29af8d401111",
   "metadata": {},
   "outputs": [
    {
     "name": "stdout",
     "output_type": "stream",
     "text": [
      "              precision    recall  f1-score   support\n",
      "\n",
      "           0       0.85      0.80      0.82        50\n",
      "           1       0.92      0.95      0.94       130\n",
      "\n",
      "    accuracy                           0.91       180\n",
      "   macro avg       0.89      0.87      0.88       180\n",
      "weighted avg       0.90      0.91      0.90       180\n",
      "\n"
     ]
    },
    {
     "data": {
      "image/png": "[encoded data removed]",
      "text/plain": [
       "<Figure size 432x288 with 2 Axes>"
      ]
     },
     "metadata": {},
     "output_type": "display_data"
    }
   ],
   "source": [
    "from sklearn.ensemble import ExtraTreesClassifier\n",
    "classifier = ExtraTreesClassifier(n_estimators=150, random_state=50)\n",
    "classifier.fit(X_train_vect, y_train)\n",
    "extra_trees_pred = classifier.predict(X_test_vect)\n",
    "\n",
    "# Classification report\n",
    "print(classification_report(y_test, extra_trees_pred))\n",
    "\n",
    "# Confusion Matrix\n",
    "class_label = [\"negative\", \"positive\"]\n",
    "df_cm = pd.DataFrame(confusion_matrix(y_test, extra_trees_pred), index=class_label, columns=class_label)\n",
    "sns.heatmap(df_cm, annot=True, fmt='d')\n",
    "plt.title(\"Confusion Matrix\")\n",
    "plt.xlabel(\"Predicted Label\")\n",
    "plt.ylabel(\"True Label\")\n",
    "plt.show()"
   ]
  },
  {
   "cell_type": "markdown",
   "id": "67d6249d-f9a8-4195-8457-58eae1aa4982",
   "metadata": {
    "tags": []
   },
   "source": [
    "<br><br>\n",
    "<h1><b>Performing K-Fold Cross Validation</b></h1>\n",
    "<ul>\n",
    "    <li><b>K=</b>10</li>\n",
    "</ul>"
   ]
  },
  {
   "cell_type": "code",
   "execution_count": 28,
   "id": "329a4939-233e-4ff7-8de2-14343346de48",
   "metadata": {},
   "outputs": [
    {
     "name": "stdout",
     "output_type": "stream",
     "text": [
      "Naive Bayes\n",
      " accuracy - 0.7761904761904762 \n",
      " precision - 0.8106979937625098 \n",
      " recall - 0.8823891625615763 \n",
      " f1 - 0.8440372496198225 \n",
      "\n",
      "Logistic Regression\n",
      " accuracy - 0.8214285714285714 \n",
      " precision - 0.8228139447764194 \n",
      " recall - 0.9481527093596058 \n",
      " f1 - 0.879783886614835 \n",
      "\n",
      "Random Forest\n",
      " accuracy - 0.8714285714285716 \n",
      " precision - 0.8567135642135643 \n",
      " recall - 0.9620689655172414 \n",
      " f1 - 0.9008247597707539 \n",
      "\n",
      "SVM\n",
      " accuracy - 0.8595238095238095 \n",
      " precision - 0.8756928831218074 \n",
      " recall - 0.9307881773399014 \n",
      " f1 - 0.9010947182273137 \n",
      "\n",
      "KNN\n",
      " accuracy - 0.6357142857142857 \n",
      " precision - 0.7162282574320051 \n",
      " recall - 0.7817733990147783 \n",
      " f1 - 0.7472042939617266 \n",
      "\n",
      "Extra Trees\n",
      " accuracy - 0.8595238095238095 \n",
      " precision - 0.8802998860609849 \n",
      " recall - 0.9238916256157635 \n",
      " f1 - 0.9003164624591908 \n",
      "\n"
     ]
    }
   ],
   "source": [
    "from sklearn.model_selection import cross_val_score\n",
    "\n",
    "models = [\n",
    "          MultinomialNB(),\n",
    "          LogisticRegression(),\n",
    "          RandomForestClassifier(n_estimators = 150),\n",
    "          SVC(kernel = 'linear'),\n",
    "          KNeighborsClassifier(n_neighbors = 5),\n",
    "          ExtraTreesClassifier(n_estimators=150, random_state=50)\n",
    "         ]\n",
    "names = [\"Naive Bayes\", \"Logistic Regression\", \"Random Forest\", \"SVM\", \"KNN\", \"Extra Trees\"]\n",
    "for model, name in zip(models, names):\n",
    "    print(name)\n",
    "    for score in [\"accuracy\", \"precision\", \"recall\", \"f1\"]:\n",
    "        print(f\" {score} - {cross_val_score(model, X_train_vect, y_train, scoring=score, cv=10).mean()} \")\n",
    "    print()"
   ]
  },
  {
   "cell_type": "markdown",
   "id": "545631bc-0f9f-447a-9160-beb92ee31584",
   "metadata": {},
   "source": [
    "<br><br>\n",
    "<h1><b>Predictions</b></h1>"
   ]
  },
  {
   "cell_type": "markdown",
   "id": "14830fa2-158a-471e-ab21-ef43a31e7862",
   "metadata": {},
   "source": [
    "<hr>\n",
    "<ul>\n",
    "    <li><b>Vectorizer:</b> TF-IDF</li>\n",
    "    <li><b>Algorithms:</b> Extra Trees Classifier</li>\n",
    "</ul>"
   ]
  },
  {
   "cell_type": "code",
   "execution_count": 95,
   "id": "ea391608-6a64-4d40-9604-8674b2930f44",
   "metadata": {},
   "outputs": [
    {
     "data": {
      "text/plain": [
       "0.9111111111111111"
      ]
     },
     "execution_count": 95,
     "metadata": {},
     "output_type": "execute_result"
    }
   ],
   "source": [
    "from sklearn.svm import SVC\n",
    "classifier = SVC(kernel = 'linear', random_state = 10)\n",
    "# from sklearn.ensemble import ExtraTreesClassifier\n",
    "# classifier = ExtraTreesClassifier(n_estimators=150, random_state=50)\n",
    "\n",
    "classifier.fit(tfidf_train, y_train)\n",
    "classifier.score(tfidf_test, y_test)"
   ]
  },
  {
   "cell_type": "code",
   "execution_count": 98,
   "id": "2c505aa6-eacb-40aa-b5ad-302262309570",
   "metadata": {},
   "outputs": [
    {
     "name": "stdout",
     "output_type": "stream",
     "text": [
      "[0 1 0 1]\n"
     ]
    }
   ],
   "source": [
    "data = [\"Bad\", \"Good\", \"I hate the service, it's really bad\", \"The nurse is so kind\"]\n",
    "vect = tfidf.transform(data).toarray()\n",
    "\n",
    "my_pred = classifier.predict(vect)\n",
    "print(my_pred)"
   ]
  },
  {
   "cell_type": "markdown",
   "id": "65ff6773-0346-49c8-b9e5-6fa8f9ed776c",
   "metadata": {},
   "source": [
    "<hr>\n",
    "<ul>\n",
    "    <li><b>Vectorizer:</b> CountVectorizer (Bag of words)</li>\n",
    "    <li><b>Algorithms:</b> Multinomial Naive Bayes</li>\n",
    "</ul>"
   ]
  },
  {
   "cell_type": "code",
   "execution_count": 70,
   "id": "5e522fc0-22bf-4416-87a4-a60e64df9651",
   "metadata": {},
   "outputs": [],
   "source": [
    "from sklearn.feature_extraction.text import CountVectorizer\n",
    "cv = CountVectorizer()\n",
    "X_cv = cv.fit_transform(df['lemmatized_review']) # Fit the Data\n",
    "y_cv = df['label']\n",
    "\n",
    "from sklearn.model_selection import train_test_split\n",
    "X_train_cv, X_test_cv, y_train_cv, y_test_cv = train_test_split(X_cv, y_cv, test_size=0.3, random_state=42)"
   ]
  },
  {
   "cell_type": "code",
   "execution_count": 75,
   "id": "ec8ece57-2b51-4382-a0a6-9d6a2cad0ddf",
   "metadata": {},
   "outputs": [
    {
     "data": {
      "text/plain": [
       "0.8944444444444445"
      ]
     },
     "execution_count": 75,
     "metadata": {},
     "output_type": "execute_result"
    }
   ],
   "source": [
    "#Naive Bayes Classifier\n",
    "from sklearn.naive_bayes import MultinomialNB\n",
    "clf = MultinomialNB()\n",
    "\n",
    "clf.fit(X_train_cv, y_train_cv)\n",
    "clf.score(X_test_cv, y_test_cv)"
   ]
  },
  {
   "cell_type": "code",
   "execution_count": 76,
   "id": "41064746-650a-48ce-9f0a-671b7bccc372",
   "metadata": {},
   "outputs": [
    {
     "name": "stdout",
     "output_type": "stream",
     "text": [
      "[0 1 0 1]\n"
     ]
    }
   ],
   "source": [
    "data = [\"Bad\", \"Good\", \"I hate the service, it's really bad\", \"The nurse is so kind\"]\n",
    "vect = cv.transform(data).toarray()\n",
    "\n",
    "my_prediction = clf.predict(vect)\n",
    "print(my_prediction)"
   ]
  }
 ],
 "metadata": {
  "kernelspec": {
   "display_name": "Python 3 (ipykernel)",
   "language": "python",
   "name": "python3"
  },
  "language_info": {
   "codemirror_mode": {
    "name": "ipython",
    "version": 3
   },
   "file_extension": ".py",
   "mimetype": "text/x-python",
   "name": "python",
   "nbconvert_exporter": "python",
   "pygments_lexer": "ipython3",
   "version": "3.9.12"
  }
 },
 "nbformat": 4,
 "nbformat_minor": 5
}
